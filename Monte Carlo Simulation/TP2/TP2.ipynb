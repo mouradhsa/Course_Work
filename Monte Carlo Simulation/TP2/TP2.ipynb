{
 "cells": [
  {
   "cell_type": "markdown",
   "metadata": {},
   "source": [
    "# TP 2 -Simulation de variables aléatoires continues"
   ]
  },
  {
   "cell_type": "code",
   "execution_count": 1,
   "metadata": {},
   "outputs": [],
   "source": [
    "import random\n",
    "import math"
   ]
  },
  {
   "cell_type": "markdown",
   "metadata": {},
   "source": [
    "## Simulation d'une variable aléatoire exponentielle\n",
    "\n",
    "La fonction de répartition d'une v.a. exponentielle de paramètre $\\lambda$ vaut\n",
    "$$F_X(x)=\\int_{-\\infty}^x f_{X}(t) dt,$$\n",
    "avec $f_X(t)=\\lambda e^{-\\lambda t}\\mathbf{1}|_{\\mathbb{R}_+}(t)$. D'où\n",
    "$$F_X(x)=\\int_{0}^x \\lambda e^{-\\lambda t}(t) dt=[-e^{-\\lambda t}]_0^x=1-e^{-\\lambda x},$$\n",
    "pour $x>0$ (et 0 sinon).\n",
    "\n",
    "On a\n",
    "$$y=F_X(x)\\Leftrightarrow y=1-e^{-\\lambda x} \\Leftrightarrow e^{-\\lambda x}=1-y  \\Leftrightarrow -\\lambda x=\\ln(1-y)\\Leftrightarrow x=-\\frac{\\ln(1-y)}\\lambda$$ \n",
    "\n",
    "Donc $F^{-1}_X(y)=-\\frac{\\ln(1-y)}{\\lambda}$.\n"
   ]
  },
  {
   "cell_type": "code",
   "execution_count": 3,
   "metadata": {},
   "outputs": [],
   "source": [
    "# Simulation d'une observation d'une va exponentielle :\n",
    "def expObs(lam):\n",
    "    U=random.random()\n",
    "    X=-math.log(1-U)/lam  # X=F^-1(U)\n",
    "    return(X)\n",
    "\n",
    "def exp(N,lam): #lam : paramètre de la loi exponentielle ; N:taille de l'échantillon\n",
    "    E=[]\n",
    "    for k in range(N):\n",
    "        Obs=expObs(lam)\n",
    "        E.append(Obs)           # on ajoute cette observation au vecteur\n",
    "    return(E)\n",
    "    "
   ]
  },
  {
   "cell_type": "code",
   "execution_count": 4,
   "metadata": {},
   "outputs": [],
   "source": [
    "# version ultra courte du progamme \n",
    "def expCourt(N,lam):\n",
    "    E=[-math.log(1-random.random())/lam for k in range(N)]\n",
    "    return E"
   ]
  },
  {
   "cell_type": "code",
   "execution_count": 5,
   "metadata": {},
   "outputs": [
    {
     "name": "stdout",
     "output_type": "stream",
     "text": [
      "[0.2739689171711942, 0.6395185863415379, 0.3942516397281332, 0.6187822344015412, 0.758464698062702, 0.12427131201972806, 0.9098620860543176, 0.11568031530494863, 0.47991534899270993, 1.8401440973922234]\n",
      "[0.40438738010082353, 0.23102609575902908, 0.058692783476649704, 1.8333577332142896, 1.1118940632062682, 0.8043523131435025, 0.03870679685135846, 0.5484343745827508, 0.012121613479744355, 0.5754697161383382]\n"
     ]
    }
   ],
   "source": [
    "# premiers essais \n",
    "X=exp(10,2)\n",
    "print(X)\n",
    "X=expCourt(10,2)\n",
    "print(X)"
   ]
  },
  {
   "cell_type": "markdown",
   "metadata": {},
   "source": [
    "Python dispose de fonctions pour calculer la moyenne et la variance d'un vecteur. Il y en a dans les librairies \"statistics\" et \"numpy\".\n",
    "On peut aussi récupérer les programmes qu'on  avait faits au TP1."
   ]
  },
  {
   "cell_type": "code",
   "execution_count": 6,
   "metadata": {},
   "outputs": [
    {
     "name": "stdout",
     "output_type": "stream",
     "text": [
      "La libraire 'statistics' peut fournir la moyenne de X : 11.625 et sa variance : 150.55357142857142\n",
      "La libraire 'numpy' aussi : 11.625 et 131.734375\n",
      "Par nos progammes maison 11.625 et 131.734375\n"
     ]
    }
   ],
   "source": [
    "import statistics as st\n",
    "import numpy as np\n",
    "\n",
    "X=[0,8,8,9,9,20,1,38]\n",
    "N=len(X)\n",
    "print(\"La libraire 'statistics' peut fournir la moyenne de X :\", st.mean(X),\"et sa variance :\",st.variance(X))\n",
    "print(\"La libraire 'numpy' aussi :\", np.mean(X),\"et\", np.var(X))\n",
    "\n",
    "\n",
    "def moy(X):\n",
    "    return sum(X)/len(X)\n",
    "\n",
    "def var(X):\n",
    "    N=len(X)\n",
    "    M=moy(X) \n",
    "    Vx2=[X[k]**2 for k in range(N)]  \n",
    "    Sx2=moy(Vx2)  \n",
    "    return Sx2-M**2\n",
    "\n",
    "print(\"Par nos progammes maison\", moy(X),\"et\",var(X))\n",
    "\n"
   ]
  },
  {
   "cell_type": "markdown",
   "metadata": {},
   "source": [
    "Remarquons que les librairies statistics et numpy ne donnent pas le même résulat concernant la variance. C'est dû au fait que c'est du au fait que statistics donne la variance empirique corrigée et numpy la variance empique non corrigée. Il y a un facteur $\\frac{N}{N-1}$ entre les deux"
   ]
  },
  {
   "cell_type": "code",
   "execution_count": 7,
   "metadata": {},
   "outputs": [
    {
     "name": "stdout",
     "output_type": "stream",
     "text": [
      "150.55357142857142\n",
      "150.55357142857142\n"
     ]
    }
   ],
   "source": [
    "print(np.var(X)*N/(N-1))\n",
    "print(st.variance(X))"
   ]
  },
  {
   "cell_type": "markdown",
   "metadata": {},
   "source": [
    "Nous concernant, cela n'a pas beaucoup d'importance car la validation de nos simulations par des indicateurs comme la moyenne et la variance se fait avec $N$ grand (et donc $\\frac{N}{N-1}\\simeq 1$).\n",
    "\n",
    "De manière générale, prenez garde quand vous utilisez des librairies existantes. Assurez-vous que le programme fait bien le travail attendu :\n",
    "- au minimum en testant le programme sur quelques exemples (si possible en choisissant des exemples succeptibles de mettre en échec le programme si ça n'était pas le cas).\n",
    "- au mieux en lisant bien la documentation (ce qui n'empêche pas de tester quand même...). \n",
    "\n",
    "\n",
    "Revenons à ce qui nous intéresse: la confrontation entre la moyenne et de la variance de notre variable simulée et l'espérance et la variance d'une variable exponentielle  (à savoir $\\frac{1}{\\lambda}$ et $\\frac{1}{\\lambda^2}$  ):"
   ]
  },
  {
   "cell_type": "code",
   "execution_count": 8,
   "metadata": {},
   "outputs": [
    {
     "name": "stdout",
     "output_type": "stream",
     "text": [
      "La moyenne empirique de notre variable vaut 0.5170492854350148 . L'espérance d'une variable aléatoire exponentielle de paramètre 2 vaut 0.5\n",
      "La variance empirique de notre variable vaut 0.2735581778421891 . La variance d'une variable aléatoire exponentielle de paramètre 2 vaut 0.25\n"
     ]
    }
   ],
   "source": [
    "N=1000\n",
    "lam=2\n",
    "X=exp(N,lam)\n",
    "print(\"La moyenne empirique de notre variable vaut\", moy(X),#\n",
    "      \". L'espérance d'une variable aléatoire exponentielle de paramètre\",lam,\"vaut\",1/lam)\n",
    "print(\"La variance empirique de notre variable vaut\", var(X),#\n",
    "      \". La variance d'une variable aléatoire exponentielle de paramètre\",lam,\"vaut\",1/lam**2)"
   ]
  },
  {
   "cell_type": "markdown",
   "metadata": {},
   "source": [
    "Comparons les fréquences empiriques obtenues lors d'une simulation avec la densité de la loi exponentielle.\n",
    "\n",
    "Attention, on faut ici regrouper les obervations au sein de classes.\n"
   ]
  },
  {
   "cell_type": "code",
   "execution_count": 2,
   "metadata": {},
   "outputs": [],
   "source": [
    "from matplotlib import pyplot as plt "
   ]
  },
  {
   "cell_type": "markdown",
   "metadata": {},
   "source": [
    "Avant de tracer les graphiques qui nous intéressent. Nous allons faire deux remarques sur la fonction hist de pyplot. \n",
    "\n",
    "Ci-dessous se trouvent deux histogrammes. Des questions suivent."
   ]
  },
  {
   "cell_type": "markdown",
   "metadata": {},
   "source": [
    "**Graphique 1 :**"
   ]
  },
  {
   "cell_type": "code",
   "execution_count": 10,
   "metadata": {},
   "outputs": [
    {
     "name": "stdout",
     "output_type": "stream",
     "text": [
      "X= [0, 0.2, 0, 3, 0.55, 0.6, 1.1, 1.6, 1.7, 1.8, 1.9]\n"
     ]
    },
    {
     "data": {
      "image/png": "[encoded data removed]",
      "text/plain": [
       "<Figure size 432x288 with 1 Axes>"
      ]
     },
     "metadata": {
      "needs_background": "light"
     },
     "output_type": "display_data"
    }
   ],
   "source": [
    "a=0\n",
    "b=2\n",
    "N=4\n",
    "X=[0,0.2,0,3,  0.55,0.6,  1.1,   1.6,1.7,1.8,1.9]\n",
    "# le vecteur X comporte 10 valeurs \n",
    "plt.hist(X,range=(a,b),bins=N,density=True)\n",
    "print(\"X=\",X)\n",
    "plt.show()"
   ]
  },
  {
   "cell_type": "markdown",
   "metadata": {},
   "source": [
    "**Graphique 2 :**"
   ]
  },
  {
   "cell_type": "code",
   "execution_count": 11,
   "metadata": {},
   "outputs": [
    {
     "name": "stdout",
     "output_type": "stream",
     "text": [
      "Y= [0, 0.2, 0.3, 0.55, 0.6, 1.1, 1.6, 1.7, 1.8, 1.9, 11, 12, 13, 14, 15, 16, 17, 18, 19, 20]\n"
     ]
    },
    {
     "data": {
      "image/png": "[encoded data removed]",
      "text/plain": [
       "<Figure size 432x288 with 1 Axes>"
      ]
     },
     "metadata": {
      "needs_background": "light"
     },
     "output_type": "display_data"
    }
   ],
   "source": [
    "a=0\n",
    "b=2\n",
    "N=4\n",
    "Y=[0,0.2,0.3,  0.55,0.6,  1.1,   1.6,1.7,1.8,1.9, 11,12,13,14,15,16,17,18,19,20]\n",
    "# c'est le vecteur de l'exemple précédent auquel on a ajouté des valeurs sortant de [a,b]\n",
    "# le vecteur Y comporte 20 valeurs \n",
    "plt.hist(Y,range=(a,b),bins=N,density=True)\n",
    "print(\"Y=\",Y)\n",
    "plt.show()"
   ]
  },
  {
   "cell_type": "markdown",
   "metadata": {},
   "source": [
    "**Questions**\n",
    "\n",
    "1. Quelle est la fréquence des nombres compris dans les différentes classes ( [0;0,5[ ,[0,5;1[,[1;1,5[,[1.5;2] )  pour le vecteur X (graphique 1) ? Quelle est la hauteur de la colonne associée ? Comment expliquer vous cette différence ?\n",
    "\n",
    "\n",
    "2. Quelle est la fréquence des nombres compris dans les différentes classes pour le vecteur Y (graphique 2) ?"
   ]
  },
  {
   "cell_type": "markdown",
   "metadata": {},
   "source": [
    "**Remarques**\n",
    "\n",
    "1.  Ce sont les aires des rectangles (et non leurs hauteurs) qui représentent les fréquences empiriques.\n",
    "Cela signifie que l'aire totale est égale à 1. \n",
    "\n",
    "2. Ces graphiques sont les mêmes. \"range(a,b)\" n'est pas qu'indicateur pour l'affichage mais indique les valeurs à prendre en considération pour le calcul des fréquences empiriques : \n",
    "les valeurs sortant de l'intervalle [a,b] n'ont pas été prises en considération dans le calcul des fréquences empiriques. plt.hist fait comme si ces valeurs n'existaient pas."
   ]
  },
  {
   "cell_type": "markdown",
   "metadata": {},
   "source": [
    "Afin de comparer les fréquences empiriques de notre simulation de variable aléatoire géométrique et la densité de la loi géométrique, il nous faut **afficher sur un intervalle** pertinent l'histogramme des fréquences empiriques et cette densité.\n",
    "\n",
    "Mais il faut que le calcul des fréquences empiriques soit fait à partir de *tout l'échantillon* et non pas à partir des observations qui \"tombent\" dans l'intervalle*.\n",
    "\n",
    "Reprenons l'exemple avec le vecteur Y. Voila comment procéder pour que Python calcule l'histogramme en se basant sur tout le vecteur Y, mais ne l'affiche sur sur l'intervalle [0,2] : \n"
   ]
  },
  {
   "cell_type": "code",
   "execution_count": 12,
   "metadata": {},
   "outputs": [
    {
     "data": {
      "image/png": "[encoded data removed]",
      "text/plain": [
       "<Figure size 432x288 with 1 Axes>"
      ]
     },
     "metadata": {
      "needs_background": "light"
     },
     "output_type": "display_data"
    }
   ],
   "source": [
    "Y=[0,0.2,0.3,  0.55,0.6,  1.1,   1.6,1.7,1.8,1.9, 11,12,13,14,15,16,17,18,19,19.9]\n",
    "\n",
    "\n",
    "a=0\n",
    "b=20\n",
    "N=40\n",
    "## Ou pour pour faire faire automatiquement la même chose à Python :\n",
    "# a=0\n",
    "# b=math.floor(max(Y))+1\n",
    "# N=int((b-a)/0.5)\n",
    "\n",
    "# paramétrage de l'affichage\n",
    "plt.xlim(0,2)  # on définit l'intervalle à afficher\n",
    "\n",
    "plt.hist(Y,range=(a,b),bins=N,density=True) # l'histogramme est bien calculé à partir de\n",
    "                                              # l'ensemble des valeurs de Y.\n",
    "plt.show()"
   ]
  },
  {
   "cell_type": "code",
   "execution_count": 13,
   "metadata": {},
   "outputs": [
    {
     "data": {
      "text/plain": [
       "[<matplotlib.lines.Line2D at 0x1ff12eba340>]"
      ]
     },
     "execution_count": 13,
     "metadata": {},
     "output_type": "execute_result"
    },
    {
     "data": {
      "image/png": "[encoded data removed]",
      "text/plain": [
       "<Figure size 432x288 with 1 Axes>"
      ]
     },
     "metadata": {
      "needs_background": "light"
     },
     "output_type": "display_data"
    }
   ],
   "source": [
    "# Simulation de la variable \n",
    "lam=2\n",
    "N=10000\n",
    "E=exp(N,lam)\n",
    "\n",
    "# tracé de l'histogramme et de la densité\n",
    "# paramétrage de la plage de valeur prises en compte dans le calcul de l'histo (i.e. : toutes les valeurs)\n",
    "a=0\n",
    "b=math.floor(max(E))+1\n",
    "Delta=0.05\n",
    "N=int((b-a)/Delta)\n",
    "\n",
    "# paramétrage la l'affichage\n",
    "A=0\n",
    "B=5\n",
    "plt.xlim(A,B)\n",
    "\n",
    "plt.hist(E,range=(a,b),bins=N,density=True)\n",
    "\n",
    "x=np.linspace(A,B,101) # crée le vecteur [A, A+eps, A+2epx..... ,B] avec eps=(B-A)/100\n",
    "\n",
    "plt.plot(x,lam*np.exp(-lam*x))  #\n"
   ]
  },
  {
   "cell_type": "markdown",
   "metadata": {},
   "source": [
    "Avec $\\lambda=100$\n",
    "\n",
    "Copier-coller du programme précédent en\n",
    "- modifiant le paramètre $\\lambda$\n",
    "- modifiant $\\Delta$\n",
    "- inserant le calcul de la moyenne et de l'espérance \n"
   ]
  },
  {
   "cell_type": "code",
   "execution_count": 14,
   "metadata": {},
   "outputs": [
    {
     "name": "stdout",
     "output_type": "stream",
     "text": [
      "La moyenne empirique de notre variable vaut 0.010093671008846561 . L'espérance d'une variable aléatoire exponentielle de paramètre 100 vaut 0.01\n",
      "La variance empirique de notre variable vaut 0.00010292718778169147 . La variance d'une variable aléatoire exponentielle de paramètre 100 vaut 0.0001\n"
     ]
    },
    {
     "data": {
      "image/png": "[encoded data removed]",
      "text/plain": [
       "<Figure size 432x288 with 1 Axes>"
      ]
     },
     "metadata": {
      "needs_background": "light"
     },
     "output_type": "display_data"
    }
   ],
   "source": [
    "# Simulation de la variable \n",
    "lam=100\n",
    "N=10000\n",
    "E=exp(N,lam)\n",
    "\n",
    "# Comparaison moyenne empirique/espérance et variance empirique/variance\n",
    "print(\"La moyenne empirique de notre variable vaut\", moy(E),#\n",
    "      \". L'espérance d'une variable aléatoire exponentielle de paramètre\",lam,\"vaut\",1/lam)\n",
    "print(\"La variance empirique de notre variable vaut\", var(E),#\n",
    "      \". La variance d'une variable aléatoire exponentielle de paramètre\",lam,\"vaut\",1/lam**2)\n",
    "\n",
    "# tracé de l'histogramme et de la densité\n",
    "# paramétrage de la plage de valeur prises en compte dans le calcul de l'histo (i.e. : toutes les valeurs)\n",
    "a=0\n",
    "b=math.floor(max(E))+1\n",
    "Delta=0.0007\n",
    "N=int(b/Delta)\n",
    "\n",
    "# paramétrage la l'affichage\n",
    "A=0\n",
    "B=0.07\n",
    "plt.xlim(A,B)\n",
    "\n",
    "plt.hist(E,range=(a,b),bins=N,density=True)\n",
    "\n",
    "x=np.linspace(A,B,101) # crée le vecteur [A, A+eps, A+2epx..... ,B] avec eps=(B-A)/100\n",
    "\n",
    "plt.plot(x,lam*np.exp(-lam*x))  \n",
    "plt.show()"
   ]
  },
  {
   "cell_type": "markdown",
   "metadata": {},
   "source": [
    "## Simulation d'une variable aléatoire suivant la loi Gamma($\\alpha$,$\\beta$) \n",
    "(avec $\\alpha\\in\\mathbb{N}$)\n",
    "\n",
    "On peut définir une variable aléatoire de loi Gamma de paramètres $(\\alpha,\\beta)$ (avec $\\alpha\\in\\mathbb{N}^*$, $\\beta>0$) comme la somme de $\\alpha$ v.a exponentielles indépendantes de paramètre $\\beta$."
   ]
  },
  {
   "cell_type": "code",
   "execution_count": 15,
   "metadata": {},
   "outputs": [],
   "source": [
    "# Simulation d'une observation d'une va de loi Gamma de paramètres alpha , beta :\n",
    "def GammaObs(alpha,beta):\n",
    "    X=exp(alpha,beta) # Simulation d'un echantillon de alpha va exponentielle de parametre beta\n",
    "    g=sum(X)\n",
    "    return(g)"
   ]
  },
  {
   "cell_type": "code",
   "execution_count": 16,
   "metadata": {},
   "outputs": [],
   "source": [
    "# Simulation de N observations d'une va de loi Gamma de paramètres alpha , beta :\n",
    "def Gamma(N,alpha,beta):\n",
    "    G=[]\n",
    "    for k in range(N):\n",
    "        g=GammaObs(alpha,beta)\n",
    "        G.append(g)\n",
    "    return(G)"
   ]
  },
  {
   "cell_type": "markdown",
   "metadata": {},
   "source": [
    "Encore une fois voici des versions abregées des ces programmes "
   ]
  },
  {
   "cell_type": "code",
   "execution_count": 17,
   "metadata": {},
   "outputs": [],
   "source": [
    "def GammaObsV(alpha,beta):\n",
    "    return sum(exp(alpha,beta))\n",
    "  \n",
    "def GammaV(N,alpha,beta):\n",
    "    return [GammaObsV(alpha,beta) for k in range(N)]\n",
    "               "
   ]
  },
  {
   "cell_type": "code",
   "execution_count": 18,
   "metadata": {},
   "outputs": [
    {
     "data": {
      "text/plain": [
       "[2.9806146709933867, 3.1238441964135637, 2.364115644503865]"
      ]
     },
     "execution_count": 18,
     "metadata": {},
     "output_type": "execute_result"
    }
   ],
   "source": [
    "#essai \n",
    "Gamma(3,10,3)"
   ]
  },
  {
   "cell_type": "code",
   "execution_count": 19,
   "metadata": {},
   "outputs": [
    {
     "data": {
      "text/plain": [
       "[6.098489187445134, 3.208064497860182, 3.4587080029977306]"
      ]
     },
     "execution_count": 19,
     "metadata": {},
     "output_type": "execute_result"
    }
   ],
   "source": [
    "#essai\n",
    "GammaV(3,10,3)"
   ]
  },
  {
   "cell_type": "markdown",
   "metadata": {},
   "source": [
    "On compare la moyenne et la variance empiriques avec l'espérance et la variance :"
   ]
  },
  {
   "cell_type": "code",
   "execution_count": 20,
   "metadata": {
    "scrolled": true
   },
   "outputs": [
    {
     "name": "stdout",
     "output_type": "stream",
     "text": [
      "La moyenne empirique de notre variable vaut 4.491191065120703 . L'espérance d'une variable aléatoire Gamma de paramètres 9 , 2 vaut 4.5\n",
      "La variance empirique de notre variable vaut 2.2322132181075993 . La variance d'une variable aléatoire Gamma de paramètres 9 , 2 vaut 2.25\n"
     ]
    }
   ],
   "source": [
    "N=10000\n",
    "alpha=9\n",
    "beta=2\n",
    "X=Gamma(N,alpha,beta)\n",
    "print(\"La moyenne empirique de notre variable vaut\", moy(X),#\n",
    "      \". L'espérance d'une variable aléatoire Gamma de paramètres\",alpha,\",\",beta,\"vaut\",alpha/beta)\n",
    "print(\"La variance empirique de notre variable vaut\", var(X),#\n",
    "      \". La variance d'une variable aléatoire Gamma de paramètres\",alpha,\",\",beta,\"vaut\",alpha/beta**2)"
   ]
  },
  {
   "cell_type": "markdown",
   "metadata": {},
   "source": [
    "Comparons maintenant les fréquences empiriques avec la densité\n",
    "\n",
    "Pour la densité :\n",
    "$$f(x)=\\frac{x^{k-1}e^{-\\frac{x}{\\theta}}}{\\Gamma(k)\\theta^k}.$$\n",
    "\n",
    "Notre $\\alpha$ correspond au $k$\n",
    "\n",
    "Notre $\\beta$ à $\\frac{1}{\\theta}$\n",
    "\n",
    "$\\Gamma(k)=(k-1)!$\n",
    "\n",
    "Donc avec nos notations :\n",
    "$$f(x)=\\frac{\\beta^\\alpha x^{\\alpha-1}e^{-\\beta x}}{(\\alpha-1)!}.$$"
   ]
  },
  {
   "cell_type": "code",
   "execution_count": 21,
   "metadata": {},
   "outputs": [
    {
     "data": {
      "image/png": "[encoded data removed]",
      "text/plain": [
       "<Figure size 432x288 with 1 Axes>"
      ]
     },
     "metadata": {
      "needs_background": "light"
     },
     "output_type": "display_data"
    }
   ],
   "source": [
    "# simulation de la variable\n",
    "N=100000\n",
    "alpha=9\n",
    "beta=2\n",
    "G=Gamma(N,alpha,beta)\n",
    "\n",
    "# tracé de l'histogramme et de la densité\n",
    "a=0\n",
    "b=math.floor(max(G))+1\n",
    "N=int(b/0.15)\n",
    "\n",
    "plt.xlim(0,10)\n",
    "plt.hist(G,range=(a,b),bins=N,density=True)\n",
    "\n",
    "A=0\n",
    "B=15\n",
    "x=np.linspace(A,B,100) \n",
    "\n",
    "denom=math.factorial(alpha-1)\n",
    "plt.plot(x,x**(alpha-1)*beta**alpha*np.exp(-beta*x)/denom)  \n",
    "plt.show()\n"
   ]
  },
  {
   "cell_type": "markdown",
   "metadata": {},
   "source": [
    "avec $\\alpha=1$ et $\\beta=12$ \n",
    "Copier coller du programme précédent. On a juste\n",
    "\n",
    "- changé les paramètres $\\alpha$ et $\\beta$ \n",
    "- inséré le calcul de la moyenne"
   ]
  },
  {
   "cell_type": "code",
   "execution_count": 22,
   "metadata": {},
   "outputs": [
    {
     "data": {
      "image/png": "[encoded data removed]",
      "text/plain": [
       "<Figure size 432x288 with 1 Axes>"
      ]
     },
     "metadata": {
      "needs_background": "light"
     },
     "output_type": "display_data"
    }
   ],
   "source": [
    "# simulation de la variable\n",
    "N=100000\n",
    "alpha=9\n",
    "beta=2\n",
    "G=Gamma(N,alpha,beta)\n",
    "\n",
    "# tracé de l'histogramme et de la densité\n",
    "a=0\n",
    "b=math.floor(max(G))+1\n",
    "N=int(b/0.15)\n",
    "\n",
    "plt.xlim(0,10)\n",
    "plt.hist(G,range=(a,b),bins=N,density=True)\n",
    "\n",
    "A=0\n",
    "B=15\n",
    "x=np.linspace(A,B,100) \n",
    "\n",
    "denom=math.factorial(alpha-1)\n",
    "plt.plot(x,x**(alpha-1)*beta**alpha*np.exp(-beta*x)/denom)  \n",
    "plt.show()"
   ]
  },
  {
   "cell_type": "markdown",
   "metadata": {},
   "source": [
    "## Simulation d'une variable aléatoire de Pareto"
   ]
  },
  {
   "cell_type": "markdown",
   "metadata": {},
   "source": [
    "La densité d'une variable aléatoire de Pareto de paramètres $a$ et $b$ est \n",
    "$$f(x)=\\frac{ab^a}{x^{a+1}}1_{[b,+\\infty[}(x)$$\n",
    "\n",
    "Pour $x>b$, on a \n",
    "$$\n",
    "\\begin{eqnarray}\n",
    "F(x)&=&\\int_b^x \\frac{ab^a}{t^{a+1}} dt\\\\\n",
    "    &=&\\left[ -\\frac{b^a}{t^{a}}\\right]_b^x\\\\\n",
    "    &=&1-\\frac{b^a}{x^a}\\\\\n",
    "\\end{eqnarray}\n",
    "$$\n",
    "\n",
    "On a \n",
    "$$y=F(x)\\Leftrightarrow \\frac{b^a}{x^a}=1-y\\Leftrightarrow \\frac{b^a}{1-y}=x^a\\Leftrightarrow\\frac{b}{(1-y)^\\frac{1}{a}}=x$$\n",
    "\n",
    "On doit donc simuler une v.a uniforme sur [0,1] , $U$\n",
    "et poser $X=\\frac{b}{(1-U)^\\frac{1}{a}}$.\n",
    "\n",
    "**Question**\n",
    "\n",
    "Notons que dans le sujet de TP, on nous propose de simuler une v.a de Pareto en posant  $X=\\frac{b}{U^\\frac{1}{a}}$. Qu'en pensez-vous ? "
   ]
  },
  {
   "cell_type": "code",
   "execution_count": 7,
   "metadata": {},
   "outputs": [],
   "source": [
    "# Simulation d'une observation d'une va de Pareto :\n",
    "def ParetoObs(alpha,beta):\n",
    "    U=random.random()\n",
    "    P=beta/U**(1/alpha)\n",
    "    return(P)\n",
    "\n",
    "# Simulation d'une variable de Pareto\n",
    "def Pareto(N,alpha,beta):\n",
    "    P=[]\n",
    "    for k in range(N):\n",
    "        p=ParetoObs(alpha,beta)\n",
    "        P.append(p)\n",
    "    return(P)"
   ]
  },
  {
   "cell_type": "code",
   "execution_count": 9,
   "metadata": {},
   "outputs": [
    {
     "data": {
      "text/plain": [
       "[6.773053080796608,\n",
       " 5.812231341438262,\n",
       " 3.752667647209195,\n",
       " 4.393986781749052,\n",
       " 6.202569943205345,\n",
       " 5.457221995254741,\n",
       " 3.34742127790719,\n",
       " 3.9129170305039715,\n",
       " 6.038172169759685,\n",
       " 3.540485600037125]"
      ]
     },
     "execution_count": 9,
     "metadata": {},
     "output_type": "execute_result"
    }
   ],
   "source": [
    "# Un essai\n",
    "Pareto(10,2,3)"
   ]
  },
  {
   "cell_type": "markdown",
   "metadata": {},
   "source": [
    "Comparaison de la moyenne :\n",
    "\n",
    "Attention \n",
    "- l'espérance et la variance données dans les sujets de TP ne sont pas les bonnes.\n",
    "- l'espérance (resp. la variance) d'une v.a. de Pareto n'est défnie que pour $\\alpha>1$ (resp. $\\alpha>2$)."
   ]
  },
  {
   "cell_type": "code",
   "execution_count": 12,
   "metadata": {},
   "outputs": [
    {
     "name": "stdout",
     "output_type": "stream",
     "text": [
      "La moyenne empirique de notre variable vaut 2.24986395129347 . L'espérance d'une variable aléatoire de Pareto de paramètre 9 , 2 vaut 2.25\n",
      "La variance empirique de notre variable vaut 0.08385038957542257 . La variance d'une variable aléatoire de Pareto de paramètre 9 2 vaut 0.08035714285714286\n"
     ]
    }
   ],
   "source": [
    "N=1000\n",
    "alpha=9\n",
    "beta=2\n",
    "P=Pareto(N,alpha,beta)\n",
    "print(\"La moyenne empirique de notre variable vaut\", moy(P),#\n",
    "      \". L'espérance d'une variable aléatoire de Pareto de paramètre\",alpha,\",\",beta,\"vaut\",alpha*beta/(alpha-1))\n",
    "print(\"La variance empirique de notre variable vaut\", var(P),#\n",
    "      \". La variance d'une variable aléatoire de Pareto de paramètre\",alpha,beta,\"vaut\",alpha*beta**2/((alpha-1)**2*(alpha-2)))"
   ]
  },
  {
   "cell_type": "markdown",
   "metadata": {},
   "source": [
    "Il me parait plus pertinent d'avoir un affichage qui \"commence\" un peu avant 2 afin de vérifier que le support semble être le bon."
   ]
  },
  {
   "cell_type": "code",
   "execution_count": 14,
   "metadata": {},
   "outputs": [
    {
     "data": {
      "text/plain": [
       "[<matplotlib.lines.Line2D at 0x25a44892be0>]"
      ]
     },
     "execution_count": 14,
     "metadata": {},
     "output_type": "execute_result"
    },
    {
     "data": {
      "image/png": "[encoded data removed]",
      "text/plain": [
       "<Figure size 432x288 with 1 Axes>"
      ]
     },
     "metadata": {
      "needs_background": "light"
     },
     "output_type": "display_data"
    }
   ],
   "source": [
    "# Simulation de la variable \n",
    "alpha=9\n",
    "beta=2\n",
    "N=10000\n",
    "P=Pareto(N,alpha,beta)\n",
    "\n",
    "# tracé de l'histogramme et de la densité\n",
    "# paramétrage de la plage de valeur prises en compte dans le calcul de l'histo (i.e. : toutes les valeurs)\n",
    "a=0\n",
    "b=math.floor(max(P))+1\n",
    "Delta=0.1\n",
    "N=int(b/Delta)\n",
    "\n",
    "# paramétrage de l'affichage\n",
    "A=1\n",
    "B=11  \n",
    "plt.xlim(A,B)\n",
    "plt.ylim(0,4)  #il faut décommmenter la ligne pour \"restreindre\" \n",
    "                #un peu l'affichage en y et que l'affichage soit lisible \n",
    "\n",
    "\n",
    "plt.hist(P,range=(a,b),bins=N,density=True)\n",
    "\n",
    "x=np.linspace(A,B,101) \n",
    "\n",
    "plt.plot(x,alpha*beta**alpha/x**(alpha+1))  "
   ]
  },
  {
   "cell_type": "markdown",
   "metadata": {},
   "source": [
    "Avec $\\alpha=2$, $\\beta=1$ :\n",
    "\n",
    "Copier coller du programme précédent. On a juste\n",
    "\n",
    "- changer les paramètres $\\alpha$ et $\\beta$ \n",
    "- modifier un peu les paramètre de la fenètre d'affichage \n",
    "- insérer le calcul de la moyenne"
   ]
  },
  {
   "cell_type": "code",
   "execution_count": 15,
   "metadata": {},
   "outputs": [
    {
     "name": "stdout",
     "output_type": "stream",
     "text": [
      "La moyenne empirique de notre variable vaut 1.9884548242884597 . L'espérance d'une variable aléatoire de Pareto de paramètre 2 , 1 vaut 2.0\n"
     ]
    },
    {
     "data": {
      "text/plain": [
       "[<matplotlib.lines.Line2D at 0x25a4305c4c0>]"
      ]
     },
     "execution_count": 15,
     "metadata": {},
     "output_type": "execute_result"
    },
    {
     "data": {
      "image/png": "[encoded data removed]",
      "text/plain": [
       "<Figure size 432x288 with 1 Axes>"
      ]
     },
     "metadata": {
      "needs_background": "light"
     },
     "output_type": "display_data"
    }
   ],
   "source": [
    "# Simulation de la variable \n",
    "alpha=2\n",
    "beta=1\n",
    "N=10000\n",
    "P=Pareto(N,alpha,beta)\n",
    "\n",
    "# Comparaison moyenne empirique / espérance\n",
    "print(\"La moyenne empirique de notre variable vaut\", moy(P),#\n",
    "      \". L'espérance d'une variable aléatoire de Pareto de paramètre\",alpha,\",\",beta,\"vaut\",alpha*beta/(alpha-1))\n",
    "\n",
    "\n",
    "# tracé de l'histogramme et de la densité\n",
    "# paramétrage de la plage de valeur prises en compte dans le calcul de l'histo (i.e. : toutes les valeurs)\n",
    "a=0\n",
    "b=math.floor(max(P))+1\n",
    "Delta=0.1\n",
    "N=int(b/Delta)\n",
    "\n",
    "# paramétrage de l'affichage\n",
    "A=0.5\n",
    "B=11  \n",
    "plt.xlim(A,B)\n",
    "plt.ylim(0,2)\n",
    "\n",
    "\n",
    "plt.hist(P,range=(a,b),bins=N,density=True)\n",
    "\n",
    "x=np.linspace(A,B,101) \n",
    "\n",
    "plt.plot(x,alpha*beta**alpha/x**(alpha+1))  "
   ]
  },
  {
   "cell_type": "code",
   "execution_count": null,
   "metadata": {},
   "outputs": [],
   "source": []
  },
  {
   "cell_type": "code",
   "execution_count": null,
   "metadata": {},
   "outputs": [],
   "source": []
  }
 ],
 "metadata": {
  "kernelspec": {
   "display_name": "Python 3",
   "language": "python",
   "name": "python3"
  },
  "language_info": {
   "codemirror_mode": {
    "name": "ipython",
    "version": 3
   },
   "file_extension": ".py",
   "mimetype": "text/x-python",
   "name": "python",
   "nbconvert_exporter": "python",
   "pygments_lexer": "ipython3",
   "version": "3.8.5"
  }
 },
 "nbformat": 4,
 "nbformat_minor": 4
}
