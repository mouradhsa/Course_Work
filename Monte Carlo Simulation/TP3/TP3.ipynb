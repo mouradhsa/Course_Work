{
 "cells": [
  {
   "cell_type": "markdown",
   "metadata": {},
   "source": [
    "# TP 3 Simulation de loi normale"
   ]
  },
  {
   "cell_type": "markdown",
   "metadata": {},
   "source": [
    "Quelques imports préliminaires"
   ]
  },
  {
   "cell_type": "code",
   "execution_count": 1,
   "metadata": {},
   "outputs": [],
   "source": [
    "import random\n",
    "import math\n",
    "import numpy as np\n",
    "from matplotlib import pyplot as plt \n",
    "\n",
    "\n",
    "# version (ultra) courte du progamme de simulation d'exponentielle\n",
    "def exp(N,lam):\n",
    "    E=[-math.log(1-random.random())/lam for k in range(N)]\n",
    "    return E"
   ]
  },
  {
   "cell_type": "markdown",
   "metadata": {},
   "source": [
    "## Simulation d'une variable aléatoire normale par utilisation du TCL"
   ]
  },
  {
   "cell_type": "code",
   "execution_count": 2,
   "metadata": {},
   "outputs": [],
   "source": [
    "# programme qui simule une observation d'une v.a normale par application du TCL sur des v.a. uniforme\n",
    "def ObsNormaleTCL(n):\n",
    "    G=0\n",
    "    for i in range(n):\n",
    "        G+=random.random()\n",
    "    return (G-n/2)/math.sqrt(n/12)\n",
    "\n",
    "# programme qui simule une v.a normale (c'est-à dire un échantillon d'observations de taille N)\n",
    "def NormaleTCL(N,n):\n",
    "    G=[]\n",
    "    for i in range(N):\n",
    "        G.append(ObsNormaleTCL(n))\n",
    "    return G"
   ]
  },
  {
   "cell_type": "code",
   "execution_count": 46,
   "metadata": {},
   "outputs": [
    {
     "name": "stdout",
     "output_type": "stream",
     "text": [
      "Notre échantillon a pour moyenne empirique -0.0004656119867772295  et pour variance empirique 0.9988945638871957\n"
     ]
    },
    {
     "data": {
      "image/png": "[encoded data removed]",
      "text/plain": [
       "<Figure size 432x288 with 1 Axes>"
      ]
     },
     "metadata": {
      "needs_background": "light"
     },
     "output_type": "display_data"
    }
   ],
   "source": [
    "# Simulation de la variable \n",
    "N=100000 # nombre d'obervations\n",
    "n=10 # nombre de va sous-jacentes utilisé dans le TCL pour la simulation de la variable\n",
    "G=NormaleTCL(N,n)\n",
    "\n",
    "print(\"Notre échantillon a pour moyenne empirique\",np.mean(G),\" et pour variance empirique\", np.var(G))\n",
    "\n",
    "\n",
    "\n",
    "# tracé de l'histogramme et de la densité\n",
    "# paramétrage de la plage de valeur prises en compte dans le calcul de l'histo (i.e. : toutes les valeurs)\n",
    "a=math.floor(min(G))-1\n",
    "b=math.floor(max(G))+1\n",
    "Delta=0.1\n",
    "N=int((b-a)/Delta)\n",
    "\n",
    "# paramétrage la l'affichage\n",
    "A=-3\n",
    "B=3\n",
    "plt.xlim(A,B)\n",
    "plt.ylim(0,1)\n",
    "\n",
    "plt.hist(G,range=(a,b),bins=N,density=True)\n",
    "\n",
    "x=np.linspace(A,B,101) # crée le vecteur [A, A+eps, A+2epx..... ,B] avec eps=(B-A)/100\n",
    "\n",
    "plt.plot(x,np.exp(-x**2/2)/np.sqrt(2*np.pi))  #\n",
    "\n",
    "plt.show()"
   ]
  },
  {
   "cell_type": "markdown",
   "metadata": {},
   "source": [
    "## Simulation de va normale par l'algorithme de Box-Muller"
   ]
  },
  {
   "cell_type": "code",
   "execution_count": 11,
   "metadata": {},
   "outputs": [],
   "source": [
    "# programme qui simule une v.a normale (c'est-à dire un echantillon d'observations de taille N)\n",
    "def NormaleBM(N):\n",
    "    Nd=int(math.floor(N/2)) # On simule les variables aléatoires par paire\n",
    "    L=[]\n",
    "    for i in range(Nd):\n",
    "        U1=random.random()\n",
    "        U2=random.random()\n",
    "        Theta=2*math.pi*U1\n",
    "        R=math.sqrt(-2*math.log(U2))\n",
    "        X=R*math.cos(Theta)\n",
    "        Y=R*math.sin(Theta)\n",
    "        L.append(X)\n",
    "        L.append(Y)\n",
    "    \n",
    "    # Dans le cas où N est impaire, on simule une derniere va normale\n",
    "    if N%2==1 :  \n",
    "        U1=random.random()\n",
    "        U2=random.random()\n",
    "        Theta=2*math.pi*U1\n",
    "        R=math.sqrt(-2*math.log(U2))\n",
    "        X=R*math.cos(Theta)\n",
    "        L.append(X)\n",
    "    \n",
    "    return L"
   ]
  },
  {
   "cell_type": "code",
   "execution_count": 15,
   "metadata": {},
   "outputs": [
    {
     "name": "stdout",
     "output_type": "stream",
     "text": [
      "[0.27361372604558853, 0.5531043419357387, 0.13975068485880776, 0.10088201702969837, -0.42251851872479446]\n",
      "[0.4641607011005856, -0.8958889792713143, 0.7335398202432232, -0.3450381119933399, 1.0524127416098104, -0.9049314193101977]\n"
     ]
    }
   ],
   "source": [
    "#tests \n",
    "print(NormaleBM(5))\n",
    "print(NormaleBM(6))\n"
   ]
  },
  {
   "cell_type": "code",
   "execution_count": 19,
   "metadata": {},
   "outputs": [
    {
     "name": "stdout",
     "output_type": "stream",
     "text": [
      "Notre échantillon a pour moyenne empirique 0.019827262141288837  et pour variance empirique 0.9821410238769562\n"
     ]
    }
   ],
   "source": [
    "# Simulation de la variable \n",
    "N=10000 #Nombre d'observation\n",
    "G=NormaleBM(N)\n",
    "\n",
    "print(\"Notre échantillon a pour moyenne empirique\",np.mean(G),\" et pour variance empirique\", np.var(G))\n"
   ]
  },
  {
   "cell_type": "code",
   "execution_count": 21,
   "metadata": {},
   "outputs": [
    {
     "data": {
      "image/png": "[encoded data removed]",
      "text/plain": [
       "<Figure size 432x288 with 1 Axes>"
      ]
     },
     "metadata": {
      "needs_background": "light"
     },
     "output_type": "display_data"
    }
   ],
   "source": [
    "# Simulation de la variable \n",
    "N=10000 #Nombre d'obervations\n",
    "G=NormaleBM(N)\n",
    "\n",
    "# tracé de l'histogramme et de la densité\n",
    "# paramétrage de la plage de valeur prises en compte dans le calcul de l'histo (i.e. : toutes les valeurs)\n",
    "a=math.floor(min(G))-1\n",
    "b=math.floor(max(G))+1\n",
    "Delta=0.1\n",
    "N=int((b-a)/Delta)\n",
    "\n",
    "# paramétrage la l'affichage\n",
    "A=-5\n",
    "B=5\n",
    "plt.xlim(A,B)\n",
    "plt.ylim(0,1)\n",
    "\n",
    "plt.hist(G,range=(a,b),bins=N,density=True)\n",
    "\n",
    "x=np.linspace(A,B,101) # crée le vecteur [A, A+eps, A+2epx..... ,B] avec eps=(B-A)/100\n",
    "\n",
    "plt.plot(x,np.exp(-x**2/2)/np.sqrt(2*np.pi))  #\n",
    "\n",
    "plt.show()"
   ]
  },
  {
   "cell_type": "markdown",
   "metadata": {},
   "source": [
    "## Simulation de va normale par l'algorithme de Marsaglia"
   ]
  },
  {
   "cell_type": "code",
   "execution_count": 22,
   "metadata": {},
   "outputs": [],
   "source": [
    "# programme qui simule une v.a normale (c'est-à dire un echantillon d'observation de taille N)\n",
    "def NormaleMars(N):\n",
    "    L=[]\n",
    "    while(len(L)<N):\n",
    "        V1=2*random.random()-1\n",
    "        V2=2*random.random()-1\n",
    "        S=V1**2+V2**2\n",
    "        if (S<1):\n",
    "            X=math.sqrt(-2*math.log(S)/S)*V1     \n",
    "            Y=math.sqrt(-2*math.log(S)/S)*V2\n",
    "            L.append(X)\n",
    "            L.append(Y)\n",
    "    return L[0:N]"
   ]
  },
  {
   "cell_type": "code",
   "execution_count": 23,
   "metadata": {},
   "outputs": [
    {
     "name": "stdout",
     "output_type": "stream",
     "text": [
      "[0.7590270175661388, -1.0592901730535649, -1.4727840684540587, 0.32152821207186644, -1.0618173128886248, -0.8755127786652376]\n",
      "[1.2286730462936815, -0.21949271576277965, -0.33865582439458136, 0.9635970435689618, -0.23452945040941348]\n"
     ]
    }
   ],
   "source": [
    "print(NormaleMars(6))\n",
    "print(NormaleMars(5))"
   ]
  },
  {
   "cell_type": "code",
   "execution_count": 26,
   "metadata": {},
   "outputs": [
    {
     "name": "stdout",
     "output_type": "stream",
     "text": [
      "Notre échantillon a pour moyenne empirique 0.004606180442472321  et pour variance empirique 0.9879355635059015\n"
     ]
    },
    {
     "data": {
      "image/png": "[encoded data removed]",
      "text/plain": [
       "<Figure size 432x288 with 1 Axes>"
      ]
     },
     "metadata": {
      "needs_background": "light"
     },
     "output_type": "display_data"
    }
   ],
   "source": [
    "# Simulation de la variable \n",
    "N=10000 #Nombre d'obervations\n",
    "G=NormaleMars(N)\n",
    "\n",
    "print(\"Notre échantillon a pour moyenne empirique\",np.mean(G),\" et pour variance empirique\", np.var(G))\n",
    "\n",
    "\n",
    "# tracé de l'histogramme et de la densité\n",
    "# paramétrage de la plage de valeur prises en compte dans le calcul de l'histo (i.e. : toutes les valeurs)\n",
    "a=math.floor(min(G))-1\n",
    "b=math.floor(max(G))+1\n",
    "Delta=0.1\n",
    "N=int((b-a)/Delta)\n",
    "\n",
    "# paramétrage la l'affichage\n",
    "A=-5\n",
    "B=5\n",
    "plt.xlim(A,B)\n",
    "plt.ylim(0,1)\n",
    "\n",
    "plt.hist(G,range=(a,b),bins=N,density=True)\n",
    "\n",
    "x=np.linspace(A,B,101) # crée le vecteur [A, A+eps, A+2epx..... ,B] avec eps=(B-A)/100\n",
    "\n",
    "plt.plot(x,np.exp(-x**2/2)/np.sqrt(2*np.pi))  #\n",
    "\n",
    "plt.show()"
   ]
  },
  {
   "cell_type": "markdown",
   "metadata": {},
   "source": [
    "## Simulation d'une variable aléatoire normale de paramètre $\\mu$ et $\\sigma^2$ quelconque"
   ]
  },
  {
   "cell_type": "markdown",
   "metadata": {},
   "source": [
    "Soit $X\\sim\\mathcal{N}(0,1)$\n",
    "\n",
    "Posons $Y=\\mu+\\sigma X$. On a\n",
    "\n",
    "$$Y\\sim\\mathcal{N}(\\mu,\\sigma^2).$$"
   ]
  },
  {
   "cell_type": "code",
   "execution_count": 35,
   "metadata": {},
   "outputs": [],
   "source": [
    "def NormaleGenerale(N,mu,sigma):  # les paramètres sont l'esperance mu et l'ECART-TYPE\n",
    "        G=np.array(NormaleBM(N))     # on transforme le résulat en tableau numpy pour pouvoir le manipuler plus aisément\n",
    "        G=G*sigma+mu \n",
    "        return G"
   ]
  },
  {
   "cell_type": "code",
   "execution_count": 43,
   "metadata": {},
   "outputs": [
    {
     "name": "stdout",
     "output_type": "stream",
     "text": [
      "Notre échantillon a pour moyenne empirique 1.9889534922304792  et pour variance empirique 9.017869625620133\n"
     ]
    },
    {
     "data": {
      "image/png": "[encoded data removed]",
      "text/plain": [
       "<Figure size 432x288 with 1 Axes>"
      ]
     },
     "metadata": {
      "needs_background": "light"
     },
     "output_type": "display_data"
    }
   ],
   "source": [
    "# Simulation de la variable \n",
    "N=100000# nbre d'obervations\n",
    "mu=2\n",
    "sigma=3\n",
    "G=NormaleGenerale(N,mu,sigma)\n",
    "\n",
    "print(\"Notre échantillon a pour moyenne empirique\",np.mean(G),\" et pour variance empirique\", np.var(G))\n",
    "\n",
    "\n",
    "# tracé de l'histogramme et de la densité\n",
    "# paramétrage de la plage de valeur prises en compte dans le calcul de l'histo (i.e. : toutes les valeurs)\n",
    "a=math.floor(min(G))-1\n",
    "b=math.floor(max(G))+1\n",
    "Delta=0.1\n",
    "N=int((b-a)/Delta)\n",
    "\n",
    "# paramétrage la l'affichage\n",
    "A=-3\n",
    "B=7\n",
    "plt.xlim(A,B)\n",
    "plt.ylim(0,1)\n",
    "\n",
    "plt.hist(G,range=(a,b),bins=N,density=True)\n",
    "\n",
    "x=np.linspace(A,B,101) # crée le vecteur [A, A+eps, A+2epx..... ,B] avec eps=(B-A)/100\n",
    "plt.plot(x,np.exp(-(x-mu)**2/(2*sigma**2))/(sigma*np.sqrt(2*np.pi)))  #\n",
    "\n",
    "plt.show()"
   ]
  },
  {
   "cell_type": "code",
   "execution_count": 54,
   "metadata": {},
   "outputs": [
    {
     "name": "stdout",
     "output_type": "stream",
     "text": [
      "0.08487199515892163 0.8354988781294496 0.7359699890685233\n"
     ]
    }
   ],
   "source": [
    "n=2\n",
    "import random\n",
    "X=random.random()\n",
    "Y=random.random()\n",
    "Z=random.random()\n",
    "print(X,Y,Z)"
   ]
  },
  {
   "cell_type": "code",
   "execution_count": 55,
   "metadata": {},
   "outputs": [
    {
     "name": "stdout",
     "output_type": "stream",
     "text": [
      "0.13436424411240122 0.8474337369372327 0.763774618976614\n"
     ]
    }
   ],
   "source": [
    "n=2\n",
    "import random\n",
    "random.seed(1)\n",
    "X=random.random()\n",
    "Y=random.random()\n",
    "Z=random.random()\n",
    "print(X,Y,Z)"
   ]
  },
  {
   "cell_type": "code",
   "execution_count": 53,
   "metadata": {},
   "outputs": [
    {
     "name": "stdout",
     "output_type": "stream",
     "text": [
      "0.9560342718892494 0.9478274870593494 0.05655136772680869\n"
     ]
    }
   ],
   "source": [
    "n=2\n",
    "import random\n",
    "random.seed(2)\n",
    "X=random.random()\n",
    "Y=random.random()\n",
    "Z=random.random()\n",
    "print(X,Y,Z)"
   ]
  },
  {
   "cell_type": "code",
   "execution_count": null,
   "metadata": {},
   "outputs": [],
   "source": []
  }
 ],
 "metadata": {
  "kernelspec": {
   "display_name": "Python 3",
   "language": "python",
   "name": "python3"
  },
  "language_info": {
   "codemirror_mode": {
    "name": "ipython",
    "version": 3
   },
   "file_extension": ".py",
   "mimetype": "text/x-python",
   "name": "python",
   "nbconvert_exporter": "python",
   "pygments_lexer": "ipython3",
   "version": "3.8.5"
  }
 },
 "nbformat": 4,
 "nbformat_minor": 4
}
