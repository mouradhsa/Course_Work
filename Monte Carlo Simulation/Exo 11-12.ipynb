{
 "cells": [
  {
   "cell_type": "code",
   "execution_count": 1,
   "metadata": {},
   "outputs": [],
   "source": [
    "import random\n",
    "import math"
   ]
  },
  {
   "cell_type": "markdown",
   "metadata": {},
   "source": [
    "### Exercice 11"
   ]
  },
  {
   "cell_type": "markdown",
   "metadata": {},
   "source": [
    "$$\\int_0^1 \\sin(\\pi x) dx =\\left[-\\frac1{\\pi}\\cos (\\pi x) \\right]_0^1=\\frac1{\\pi}\\big(\\cos(0)-\\cos(\\pi)\\big)=\\frac{2}{\\pi}.$$"
   ]
  },
  {
   "cell_type": "code",
   "execution_count": 5,
   "metadata": {},
   "outputs": [
    {
     "name": "stdout",
     "output_type": "stream",
     "text": [
      "La valeur approchée de cette intégrale par la méthode de Monte-Carlo est 0.6350109942942662\n",
      "La valeur de l'intégrale est 2/pi , c'est-à dire environ 0.6366197723675814\n"
     ]
    }
   ],
   "source": [
    "n=100000\n",
    "U=[random.random() for k in range(n)]\n",
    "G=[math.sin(t*math.pi) for t in U]\n",
    "S=sum(G)/n\n",
    "print(\"La valeur approchée de cette intégrale par la méthode de Monte-Carlo est\", S)       \n",
    "print(\"La valeur de l'intégrale est 2/pi , c'est-à dire environ\", 2/math.pi)  "
   ]
  },
  {
   "cell_type": "code",
   "execution_count": 35,
   "metadata": {},
   "outputs": [],
   "source": [
    "### Exercice 12 "
   ]
  },
  {
   "cell_type": "markdown",
   "metadata": {},
   "source": [
    "On a \n",
    "$$\\int_0^{+\\infty} \\cos(x^3)\\exp(-x)dx=\\int_0^{+\\infty} \\cos(x^3)f_X(x)dx$$\n",
    "où $f_X$ est la densité d'une variable aléatoire exponentielle de paramètre 1. Donc cette intrégrale peut s'interpreter comme une espérance :\n",
    "    $$\\int_0^{+\\infty} \\cos(x^3)\\exp(-x)dx=\\mathbb{E}[\\cos(X^3)]$$"
   ]
  },
  {
   "cell_type": "code",
   "execution_count": 7,
   "metadata": {},
   "outputs": [
    {
     "name": "stdout",
     "output_type": "stream",
     "text": [
      "0.5620308317516745\n"
     ]
    }
   ],
   "source": [
    "# Simulation d'une observation d'une va exponentielle :\n",
    "def expObs(lam):\n",
    "    U=random.random()\n",
    "    X=-math.log(1-U)/lam  # X=F^-1(U)\n",
    "    return(X)\n",
    "\n",
    "def exp(N,lam): #lam : paramètre de la loi exponentielle ; N:taille de l'échantillon\n",
    "    E=[]\n",
    "    for k in range(N):\n",
    "        Obs=expObs(lam)\n",
    "        E.append(Obs)           # on ajoute cette observation au vecteur\n",
    "    return(E)\n",
    "\n",
    "######\n",
    "    \n",
    "N=10000\n",
    "E=exp(N,1)\n",
    "G=[math.cos(k**3) for k in E]\n",
    "S=sum(G)/N\n",
    "print(S)"
   ]
  },
  {
   "cell_type": "code",
   "execution_count": null,
   "metadata": {},
   "outputs": [],
   "source": []
  },
  {
   "cell_type": "code",
   "execution_count": null,
   "metadata": {},
   "outputs": [],
   "source": []
  }
 ],
 "metadata": {
  "kernelspec": {
   "display_name": "Python 3",
   "language": "python",
   "name": "python3"
  },
  "language_info": {
   "codemirror_mode": {
    "name": "ipython",
    "version": 3
   },
   "file_extension": ".py",
   "mimetype": "text/x-python",
   "name": "python",
   "nbconvert_exporter": "python",
   "pygments_lexer": "ipython3",
   "version": "3.8.5"
  }
 },
 "nbformat": 4,
 "nbformat_minor": 4
}
