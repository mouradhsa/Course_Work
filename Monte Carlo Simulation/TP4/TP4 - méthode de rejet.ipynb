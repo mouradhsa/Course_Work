{
 "cells": [
  {
   "cell_type": "markdown",
   "metadata": {},
   "source": [
    "# TP 4 - Méthode de rejet"
   ]
  },
  {
   "cell_type": "code",
   "execution_count": 1,
   "metadata": {},
   "outputs": [],
   "source": [
    "import math\n",
    "import random\n",
    "import numpy as np\n",
    "from matplotlib import pyplot as plt \n"
   ]
  },
  {
   "cell_type": "markdown",
   "metadata": {},
   "source": [
    "##  I - Simulation d'une variable aléatoire normale"
   ]
  },
  {
   "cell_type": "markdown",
   "metadata": {},
   "source": [
    "Soient $f$ la densité gaussienne,\n",
    "$$f(x)=\\frac1{\\sqrt{2\\pi}}e^{-\\frac{x^2}{2}}$$\n",
    "et $g$ la dentité de Laplace \n",
    "$$g(x)=\\frac12e^{-|x|}.$$\n",
    "\n",
    "Détermminons le plus petit $k$ tel que \n",
    "$$\\forall x\\in\\mathbb{R} \\qquad f(x)\\leqslant kg(x).$$\n",
    "On pose \n",
    "$$h(x)=\\frac{f(x)}{g(x)}=\\sqrt{\\frac{2}{\\pi}}e^{-\\frac{x^2}{2}+|x|}.$$\n",
    "On a \n",
    "$$h'(x)=\\left\\{\\begin{array}{ll}\n",
    "            \\sqrt{\\frac{2}{\\pi}}(1-x)e^{-\\frac{x^2}{2}+x} &\\textrm{pour $x>0$}\\\\\n",
    "            \\sqrt{\\frac{2}{\\pi}}(-1-x)e^{-\\frac{x^2}{2}-x} &\\textrm{pour $x<0$}\\\\\n",
    "            \\end{array}\n",
    "           \\right.\n",
    "           $$\n",
    "           \n",
    "   "
   ]
  },
  {
   "cell_type": "code",
   "execution_count": null,
   "metadata": {},
   "outputs": [],
   "source": []
  },
  {
   "cell_type": "markdown",
   "metadata": {},
   "source": [
    "Commençons par écrire un programme (on en donne même deux) qui simule une observation d'une va de Laplace."
   ]
  },
  {
   "cell_type": "code",
   "execution_count": 2,
   "metadata": {},
   "outputs": [],
   "source": [
    "# simulation d'une observation d'une variable aléatoire de Laplace en utlisant l'inversion de la fonction de répartition \n",
    "def Laplace():\n",
    "    U=random.random()\n",
    "    if U<1/2:\n",
    "        Z=math.log(2*U)\n",
    "    else :\n",
    "        Z=-math.log(2*(1-U))\n",
    "    return Z\n",
    "\n",
    "\n",
    "# simulation d'une observation d'une variable aléatoire de Laplace en utlisant le fait qu'un telle variable peut se voir comme \n",
    "# le produite d'une va exponentielle d'une va de RadeMacher (va qui vaut 1 ou -1 avec proba 1/2)\n",
    "def Laplace2():\n",
    "    E=math.log(random.random()) # simulation d'une va exponentielle de paramètre 1\n",
    "    U=random.random()           # simulation d'une Rademacher R\n",
    "    if U<1/2:\n",
    "        R=-1\n",
    "    else :\n",
    "        R=1\n",
    "    return E*R\n"
   ]
  },
  {
   "cell_type": "markdown",
   "metadata": {},
   "source": [
    "Simulation d'une variable aléatoire Normale centrée réduite par la méthode de rejet"
   ]
  },
  {
   "cell_type": "code",
   "execution_count": 3,
   "metadata": {},
   "outputs": [],
   "source": [
    "\n",
    "def Normale(N):\n",
    "    coef=1/math.sqrt(2*math.pi)       # le coefficient de normalisation de la gaussienne\n",
    "        \n",
    "    k=math.sqrt(2*math.e/math.pi)  # coeficient k\n",
    "    \n",
    "    L=[]\n",
    "    while(len(L)<N):               # tant qu'on a pas simulé assez d'observation\n",
    "        Z=Laplace2()                              #on simule une observation d'une va de Laplace Z\n",
    "        Y=random.random()*k*1/2*math.exp(-abs(Z))  #on simule une obervation d'unevariable aléaoire Y de loi uniforme sur [0,kg(Z)]\n",
    "        if Y<math.exp(-Z**2/2)*coef:  #On compare Y avec f(Z)\n",
    "            L.append(Z)            #Si Y<f(Z), Z est une obervation . On l'ajoute au tableau\n",
    "    return L"
   ]
  },
  {
   "cell_type": "code",
   "execution_count": 4,
   "metadata": {},
   "outputs": [
    {
     "data": {
      "text/plain": [
       "[0.39032374732149117,\n",
       " -0.5696579057608406,\n",
       " -0.7814769432342566,\n",
       " 0.9023707756023818,\n",
       " 2.1741404319416784]"
      ]
     },
     "execution_count": 4,
     "metadata": {},
     "output_type": "execute_result"
    }
   ],
   "source": [
    "Normale(5)"
   ]
  },
  {
   "cell_type": "code",
   "execution_count": 12,
   "metadata": {},
   "outputs": [
    {
     "name": "stdout",
     "output_type": "stream",
     "text": [
      "Notre échantillon a pour moyenne empirique -0.0007547507485198026  et pour variance empirique 1.000874758184079\n"
     ]
    },
    {
     "data": {
      "image/png": "[encoded data removed]",
      "text/plain": [
       "<Figure size 432x288 with 1 Axes>"
      ]
     },
     "metadata": {
      "needs_background": "light"
     },
     "output_type": "display_data"
    }
   ],
   "source": [
    "#Simulation de la variable \n",
    "NObs=10000 #Nombre d'obervations\n",
    "G=Normale(NObs)\n",
    "\n",
    "print(\"Notre échantillon a pour moyenne empirique\",np.mean(G),\" et pour variance empirique\", np.var(G))\n",
    "\n",
    "\n",
    "# tracé de l'histogramme et de la densité\n",
    "# paramétrage de la plage de valeur prises en compte dans le calcul de l'histo (i.e. : toutes les valeurs)\n",
    "a=math.floor(min(G))-1\n",
    "b=math.floor(max(G))+1\n",
    "Delta=0.1\n",
    "NCase=int((b-a)/Delta)\n",
    "\n",
    "# paramétrage la l'affichage\n",
    "A=-5\n",
    "B=5\n",
    "plt.xlim(A,B)\n",
    "#plt.ylim(0,1)\n",
    "\n",
    "plt.hist(G,range=(a,b),bins=NCase,density=True)\n",
    "\n",
    "x=np.linspace(A,B,101) # crée le vecteur [A, A+eps, A+2epx..... ,B] avec eps=(B-A)/100\n",
    "\n",
    "plt.plot(x,np.exp(-x**2/2)/np.sqrt(2*np.pi))  #\n",
    "\n",
    "plt.show()"
   ]
  },
  {
   "cell_type": "markdown",
   "metadata": {},
   "source": [
    "## II - Simulation d'une variable aléatoire Beta ($\\alpha$, $\\beta$)"
   ]
  },
  {
   "cell_type": "markdown",
   "metadata": {},
   "source": [
    "On considère \n",
    "$$f(x)=\\frac{\\Gamma(\\alpha+\\beta)}{\\Gamma(\\alpha)\\Gamma(\\beta)}x^{\\alpha-1}(1-x)^{\\beta-1}1_{[0,1]}(x)$$\n",
    "la densité de la loi Beta et \n",
    "$$g(x)=1_{[0,1]}(x)$$\n",
    "la densité de la loi uniforme sur $[0,1]$. \n",
    "\n",
    "On pose $h(x)=\\frac{f(x)}{g(x)} =f(x)$.\n",
    "\n",
    "On a, sur $]0,1[$,\n",
    "$$\n",
    "\\begin{array}{rcl}\n",
    "h'(x)&=&\\frac{\\Gamma(\\alpha+\\beta)}{\\Gamma(\\alpha)\\Gamma(\\beta)}\n",
    "    \\big(\n",
    "    (\\alpha-1)x^{\\alpha-2}(1-x)^{\\beta-1}\n",
    "    _\n",
    "     (\\beta-1)x^{\\alpha-1}(1-x)^{\\beta-2}\n",
    "     \\big)\\\\\n",
    "     &=&\n",
    "      \\frac{\\Gamma(\\alpha+\\beta)}{\\Gamma(\\alpha)\\Gamma(\\beta)}  \n",
    "    [(\\alpha-1)(1-x)-(\\beta-1)x]x^{\\alpha-2}(1-x)^{\\beta-2}].\n",
    "     \\\\\n",
    "      &=&\n",
    "      \\frac{\\Gamma(\\alpha+\\beta)}{\\Gamma(\\alpha)\\Gamma(\\beta)}  \n",
    "    [-(\\alpha+\\beta-2)x+\\alpha-1]x^{\\alpha-2}(1-x)^{\\beta-2}].\n",
    "     \\\\\n",
    "\\end{array}\n",
    "$$\n",
    "\n",
    "Pour $\\alpha>1$ et $\\beta>1$ le max est donc atteint pour $x_M=\\frac{\\alpha-1}{\\alpha+\\beta-2}$ et on a donc \n",
    "$$f(x)\\leqslant Cg(x)$$\n",
    "avec $C=h(x_M)$."
   ]
  },
  {
   "cell_type": "code",
   "execution_count": 24,
   "metadata": {},
   "outputs": [],
   "source": [
    "def Beta(alpha,beta,N):\n",
    "    Cst=math.gamma(alpha+beta)/(math.gamma(alpha)*math.gamma(beta)  )      # le coefficient de normalisation \n",
    "    \n",
    "    xM=(alpha-1)/(alpha+beta-2)   #n calcule la meilleure constante C telle que f(x)< Cg(x)\n",
    "    C=Cst*xM**(alpha-1)*(1-xM)**(beta-1)                         #\n",
    "                              \n",
    "    L=[]       \n",
    "    while(len(L)<N):               # tant qu'on a pas simulé assez d'observation\n",
    "        Z=random.random()    #on simule une observation d'un loi uniforme sur [0,1]\n",
    "        Y=random.random()*C  #on simule une obervation d'une variable aléatoire Y de loi uniforme sur [0,kg(Z)]\n",
    "        if Y<Cst*Z**(alpha-1)*(1-Z)**(beta-1):  #On compare Y avec f(Z)\n",
    "            L.append(Z)            #Si Y<f(Z), Z est une obervation . On l'ajoute au tableau\n",
    "    return L"
   ]
  },
  {
   "cell_type": "code",
   "execution_count": 25,
   "metadata": {},
   "outputs": [
    {
     "name": "stdout",
     "output_type": "stream",
     "text": [
      "Notre échantillon a pour moyenne empirique 0.3005404277613161  et pour variance empirique 0.034978732932863\n"
     ]
    },
    {
     "data": {
      "image/png": "[encoded data removed]",
      "text/plain": [
       "<Figure size 432x288 with 1 Axes>"
      ]
     },
     "metadata": {
      "needs_background": "light"
     },
     "output_type": "display_data"
    }
   ],
   "source": [
    "#Simulation de la variable \n",
    "NObs=100000 #Nombre d'obervations\n",
    "\n",
    "alpha=1.5\n",
    "beta=3.5\n",
    "Cst=math.gamma(alpha+beta)/(math.gamma(alpha)*math.gamma(beta)  ) \n",
    "\n",
    "B=Beta(alpha,beta,NObs)\n",
    "\n",
    "print(\"Notre échantillon a pour moyenne empirique\",np.mean(B),\" et pour variance empirique\", np.var(B))\n",
    "\n",
    "\n",
    "# tracé de l'histogramme et de la densité\n",
    "# paramétrage de la plage de valeur prises en compte dans le calcul de l'histo (i.e. : toutes les valeurs)\n",
    "a=0\n",
    "b=1\n",
    "Delta=0.01\n",
    "NCase=int((b-a)/Delta)\n",
    "\n",
    "# paramétrage la l'affichage\n",
    "#A=-5\n",
    "#B=5\n",
    "#plt.xlim(A,B)\n",
    "#plt.ylim(0,1)\n",
    "\n",
    "plt.hist(B,range=(a,b),bins=NCase,density=True)\n",
    "\n",
    "x=np.linspace(a,b,101) # crée le vecteur [A, A+eps, A+2epx..... ,B] avec eps=(B-A)/100\n",
    "\n",
    "plt.plot(x,Cst*x**(alpha-1)*(1-x)**(beta-1))  #\n",
    "\n",
    "plt.show()"
   ]
  },
  {
   "cell_type": "code",
   "execution_count": null,
   "metadata": {},
   "outputs": [],
   "source": []
  },
  {
   "cell_type": "code",
   "execution_count": null,
   "metadata": {},
   "outputs": [],
   "source": []
  }
 ],
 "metadata": {
  "kernelspec": {
   "display_name": "Python 3",
   "language": "python",
   "name": "python3"
  },
  "language_info": {
   "codemirror_mode": {
    "name": "ipython",
    "version": 3
   },
   "file_extension": ".py",
   "mimetype": "text/x-python",
   "name": "python",
   "nbconvert_exporter": "python",
   "pygments_lexer": "ipython3",
   "version": "3.8.5"
  }
 },
 "nbformat": 4,
 "nbformat_minor": 4
}
