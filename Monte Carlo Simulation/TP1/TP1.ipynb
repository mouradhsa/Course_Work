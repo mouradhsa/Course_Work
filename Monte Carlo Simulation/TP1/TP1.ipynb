{
 "cells": [
  {
   "cell_type": "markdown",
   "metadata": {},
   "source": [
    "# TP1 - Simulation de variables aléatoires discrètes"
   ]
  },
  {
   "cell_type": "code",
   "execution_count": 1,
   "metadata": {},
   "outputs": [],
   "source": [
    "import random \n",
    "random.seed()\n"
   ]
  },
  {
   "cell_type": "markdown",
   "metadata": {},
   "source": [
    "## Exercice 0 : Calcul d'une valeur approchée de $\\pi$\n",
    "\n",
    "( https://www.mathcha.io/editor/4zPEVU4GfLpHx3dOB3hp4oP8YIrQnndWFmDJ6wx  )"
   ]
  },
  {
   "cell_type": "code",
   "execution_count": 2,
   "metadata": {},
   "outputs": [],
   "source": [
    "import random\n",
    "\n",
    "def PI(N):\n",
    "    S=0\n",
    "    for i in range(N):\n",
    "        X=random.random()\n",
    "        Y=random.random()\n",
    "        if X**2+Y**2<1 :\n",
    "            S=S+1\n",
    "    return 4*S/N\n"
   ]
  },
  {
   "cell_type": "code",
   "execution_count": 3,
   "metadata": {},
   "outputs": [
    {
     "name": "stdout",
     "output_type": "stream",
     "text": [
      "3.1156\n",
      "3.1292\n",
      "3.1296\n",
      "3.1344\n",
      "3.1196\n",
      "3.1376\n",
      "3.148\n",
      "3.1464\n",
      "3.1528\n",
      "3.1576\n"
     ]
    }
   ],
   "source": [
    "# Test du programme : 10 estimations, chacune faite à partir d'un tirage de N points\n",
    "N=10000\n",
    "for i in range(10):\n",
    "    print(PI(N))\n",
    "    "
   ]
  },
  {
   "cell_type": "markdown",
   "metadata": {},
   "source": [
    "## Simulation d'une variable aléatoire de Bernoulli\n",
    "\n",
    "Simulons une variable de Bernoulli\n",
    "\n",
    "**Idée** : la proba qu'une variable aléatoire uniforme sur [0,1] soit inférieur à p vaut p."
   ]
  },
  {
   "cell_type": "code",
   "execution_count": 4,
   "metadata": {},
   "outputs": [],
   "source": [
    "# génération observation d'une Bernoulli\n",
    "# Version longue \n",
    "def ObsBernoulli(p):\n",
    "    X=random.random()\n",
    "    if X<p :\n",
    "        U=1\n",
    "    else:\n",
    "        U=0\n",
    "    return U\n"
   ]
  },
  {
   "cell_type": "code",
   "execution_count": 5,
   "metadata": {},
   "outputs": [],
   "source": [
    "# génération d'une Bernoulli\n",
    "# Version courte \n",
    "def ObsBernoulli(p):\n",
    "    return int(random.random()<p)\n"
   ]
  },
  {
   "cell_type": "code",
   "execution_count": 6,
   "metadata": {},
   "outputs": [],
   "source": [
    "# Simulation d'une variable de Bernoulli, c'est-à-dire de N observations indépendantes d'une Bernouilli\n",
    "def Bernoulli(N,p):\n",
    "    X=[]\n",
    "    for i in range(N):\n",
    "        X.append(ObsBernoulli(p))\n",
    "    return X\n"
   ]
  },
  {
   "cell_type": "code",
   "execution_count": 7,
   "metadata": {},
   "outputs": [
    {
     "data": {
      "text/plain": [
       "[0, 1, 0, 0, 0]"
      ]
     },
     "execution_count": 7,
     "metadata": {},
     "output_type": "execute_result"
    }
   ],
   "source": [
    "# Un essai\n",
    "Bernoulli(5,1/3)\n"
   ]
  },
  {
   "cell_type": "markdown",
   "metadata": {},
   "source": [
    "Comment valider notre programme ? \n",
    "\n",
    "On peut calculer la moyenne empirique (pour $N$ grand) et la comparer à l'espérance d'une v.a. de Bernouli (à savoir $p$)."
   ]
  },
  {
   "cell_type": "code",
   "execution_count": 8,
   "metadata": {},
   "outputs": [
    {
     "name": "stdout",
     "output_type": "stream",
     "text": [
      "La moyenne empirique vaut 0.33207\n",
      "L'espérance d'une v.a. de Bernoulli de paramètre  0.3333333333333333  vaut 0.3333333333333333 .\n"
     ]
    }
   ],
   "source": [
    "# Calcul de la moyenne empirique\n",
    "N=100000\n",
    "p=1/3\n",
    "B=Bernoulli(N,p)\n",
    "sum(B)/N\n",
    "\n",
    "print(\"La moyenne empirique vaut\",sum(B)/N)\n",
    "print(\"L'espérance d'une v.a. de Bernoulli de paramètre \",p,\" vaut\",p,\".\")\n"
   ]
  },
  {
   "cell_type": "markdown",
   "metadata": {},
   "source": [
    "## Simulation d'une variable aléatoire binomiale \n",
    "\n",
    "Une variable binomiale de paramètres $(n,p)$ peut être vue comme la somme de $n$ variables aléatoires de Bernoulli, indépendantes et de paramètre $p$."
   ]
  },
  {
   "cell_type": "code",
   "execution_count": 9,
   "metadata": {},
   "outputs": [],
   "source": [
    "# génération d'une observation de la binomiale :\n",
    "def ObsBinomiale(p,n):\n",
    "    b=Bernoulli(n,p)\n",
    "    B=sum(b)\n",
    "    return B\n"
   ]
  },
  {
   "cell_type": "code",
   "execution_count": 10,
   "metadata": {},
   "outputs": [],
   "source": [
    "# en version courte :\n",
    "def ObsBinomiale(p,n):\n",
    "    return sum(Bernoulli(n,p))\n"
   ]
  },
  {
   "cell_type": "code",
   "execution_count": 11,
   "metadata": {},
   "outputs": [],
   "source": [
    "# Simulation d'une variable de binomiale, c'est-à-dire de N observations indépendantes d'une binomiale\n",
    "def Binomiale(N,p,n):\n",
    "    X=[]\n",
    "    for k in range(N):\n",
    "        X.append(ObsBinomiale(p,n))\n",
    "    return X\n",
    "        "
   ]
  },
  {
   "cell_type": "code",
   "execution_count": 12,
   "metadata": {},
   "outputs": [
    {
     "data": {
      "text/plain": [
       "[7, 5, 5, 3, 7, 4, 7, 5, 5, 5]"
      ]
     },
     "execution_count": 12,
     "metadata": {},
     "output_type": "execute_result"
    }
   ],
   "source": [
    "# premier esssai\n",
    "Binomiale(10,1/2,10)\n"
   ]
  },
  {
   "cell_type": "markdown",
   "metadata": {},
   "source": [
    "Commment valider notre programme ? \n",
    "\n",
    "On peut calculer la moyenne empirique (pour $N$ grand) et la comparer à l'espérance d'une v.a. de binomiale (à savoir $np$).\n"
   ]
  },
  {
   "cell_type": "code",
   "execution_count": 13,
   "metadata": {},
   "outputs": [
    {
     "name": "stdout",
     "output_type": "stream",
     "text": [
      "La moyenne empirique vaut 3.33304 .\n",
      "L'espérance d'une binomiale de paramètres 0.3333333333333333 , 10 vaut 3.333333333333333 .\n"
     ]
    }
   ],
   "source": [
    "# Calcul de la moyenne empirique\n",
    "N=100000\n",
    "n=10\n",
    "p=1/3\n",
    "B=Binomiale(N,p,n)\n",
    "M=0\n",
    "for i in range(N):\n",
    "    M=M+B[i]\n",
    "M=M/N\n",
    "print(\"La moyenne empirique vaut\",M,\".\")\n",
    "print(\"L'espérance d'une binomiale de paramètres\",p,\",\",n,\"vaut\",n*p,\".\")\n"
   ]
  },
  {
   "cell_type": "code",
   "execution_count": 14,
   "metadata": {},
   "outputs": [
    {
     "name": "stdout",
     "output_type": "stream",
     "text": [
      "La moyenne empirique vaut 3.33432 .\n",
      "L'espérance d'une binomiale de paramètres 0.3333333333333333 , 10 vaut 3.333333333333333 .\n"
     ]
    }
   ],
   "source": [
    "# Calcul de la moyenne empirique (en version courte)\n",
    "N=100000\n",
    "n=10\n",
    "p=1/3\n",
    "B=Binomiale(N,p,n)\n",
    "print(\"La moyenne empirique vaut\",sum(B)/N,\".\")\n",
    "print(\"L'espérance d'une binomiale de paramètres\",p,\",\",n,\"vaut\",n*p,\".\")\n"
   ]
  },
  {
   "cell_type": "markdown",
   "metadata": {},
   "source": [
    "Cela constitue un premier indicateur. C'est cependant insuffisant. En effet si on calculait la moyenne empirique d'un programme qui, par exemple, renverrait $1$ fois sur $n+1$ chacune des valeurs de $\\{0,....n\\}$ (c'est-à-dire qui simulerait une v.a de loi uniforme sur $\\{0,...,n\\}$, on obtiendrait aussi une moyenne empirique proche de $np$.\n",
    "\n",
    "On peut calculer la variance empirique (non corrigée dans le programme qui suit), c'est-à dire de \n",
    "$$\\frac1n \\sum_{i=1}^N (x_i-\\bar{x})^2=\\frac1n \\left(\\sum_{i=1}^N x_i^2\\right)~~ -\\bar{x}^2.$$"
   ]
  },
  {
   "cell_type": "code",
   "execution_count": 15,
   "metadata": {},
   "outputs": [
    {
     "name": "stdout",
     "output_type": "stream",
     "text": [
      "La variance empirique vaut 2.2122587311000004 .\n",
      "La variance d'une binomiale de paramètres 0.3333333333333333 , 10 vaut 2.2222222222222223 .\n"
     ]
    }
   ],
   "source": [
    "# Calcul de la variance empirique (je n'indique ici que la version courte)\n",
    "\n",
    "N=100000\n",
    "n=10\n",
    "p=1/3\n",
    "\n",
    "B=Binomiale(N,p,n)\n",
    "M=sum(B)/N  #calcul de la moyenne empirique \n",
    "Vx2=[B[k]**2 for k in range(N)]  # on créer le vecteur des x_i^2\n",
    "Sx2=sum(Vx2)/N         #calcul de la moyenne de ce vecteur\n",
    "print(\"La variance empirique vaut\",Sx2-M**2,\".\")\n",
    "print(\"La variance d'une binomiale de paramètres\",p,\",\",n,\"vaut\",n*p*(1-p),\".\")\n"
   ]
  },
  {
   "cell_type": "markdown",
   "metadata": {},
   "source": [
    "C'est un second indicateur, mais là encore, c'est insuffisant.\n",
    "\n",
    "Nous allons comparer les fréquences empirices obtenues pour $k\\in\\{0,\\ldots,n\\}$ avec les probabilités théoriques d'obtenir chacun de ces résultats. \n",
    "\n",
    "On rappelle que, pour une variable aléatoire binomiale $X\\sim\\mathcal{B}(n,p)$, on a :\n",
    "$$\\mathbb{P}(X=k)=C^k_np^k(1-p)^{n-k},$$\n",
    "où $C^k_n=\\frac{n!}{k!(n-k)!}$."
   ]
  },
  {
   "cell_type": "code",
   "execution_count": 16,
   "metadata": {},
   "outputs": [],
   "source": [
    "from matplotlib import pyplot as plt  \n",
    "import math\n"
   ]
  },
  {
   "cell_type": "code",
   "execution_count": 17,
   "metadata": {},
   "outputs": [],
   "source": [
    "def C(n,k):\n",
    "    return math.factorial(n)/(math.factorial(k)*math.factorial(n-k))\n"
   ]
  },
  {
   "cell_type": "code",
   "execution_count": 33,
   "metadata": {},
   "outputs": [
    {
     "data": {
      "image/png": "[encoded data removed]",
      "text/plain": [
       "<Figure size 432x288 with 1 Axes>"
      ]
     },
     "metadata": {
      "needs_background": "light"
     },
     "output_type": "display_data"
    }
   ],
   "source": [
    "N=1000\n",
    "n=10\n",
    "p=1/4\n",
    "X=Binomiale(N,p,n)\n",
    "plt.hist(X, range = (0, n+1),width = 0.3,  bins = n+1,density=True)\n",
    "\n",
    "PT=[]\n",
    "for k in range(0,n+1):\n",
    "        PT.append(C(n,k)*p**k*(1-p)**(n-k))\n",
    "plt.bar(range(0,n+1),PT, width = 0.2, color = 'red') \n",
    "plt.show()\n"
   ]
  },
  {
   "cell_type": "markdown",
   "metadata": {},
   "source": [
    "## Simulation d'une variable aléatoire géométrique\n",
    "\n",
    "La loi géométrique de paramètre $p$ modélise la loi de première occurence de succès lors d'une succession d'épreuves de Bernoulli indépendantes de probabilité de succès $p$."
   ]
  },
  {
   "cell_type": "code",
   "execution_count": 19,
   "metadata": {},
   "outputs": [],
   "source": [
    "# génération observation d'une v.a. géométrique de paramètre p :\n",
    "# Version longue\n",
    "def ObsGeom(p):\n",
    "    NbEssai=0\n",
    "    loupe=True\n",
    "    while(loupe):\n",
    "        X=ObsBernoulli(p)\n",
    "        NbEssai=NbEssai+1\n",
    "        if X==1 :\n",
    "            loupe=False\n",
    "    return NbEssai\n"
   ]
  },
  {
   "cell_type": "code",
   "execution_count": 20,
   "metadata": {},
   "outputs": [],
   "source": [
    "# génération d'une observation d'une v.a. géomtrique de paramètre p :\n",
    "# version courte \n",
    "def ObsGeom(p):\n",
    "    NbEssai=1 #attention ici on initialise à 1\n",
    "    while(ObsBernoulli(p)==0):\n",
    "        NbEssai+=1\n",
    "    return NbEssai\n"
   ]
  },
  {
   "cell_type": "code",
   "execution_count": 21,
   "metadata": {},
   "outputs": [],
   "source": [
    "# Simulation d'une variable géométrique, c'est à dire d'un échantillon d'observation\n",
    "def Geom(N,p):\n",
    "    X=[]\n",
    "    for k in range(N):\n",
    "        X.append(ObsGeom(p)) # ou ObsGeomL\n",
    "    return X\n",
    "        "
   ]
  },
  {
   "cell_type": "code",
   "execution_count": 22,
   "metadata": {},
   "outputs": [
    {
     "name": "stdout",
     "output_type": "stream",
     "text": [
      "[1, 2, 1, 3, 1, 2, 1, 1, 1, 1]\n"
     ]
    }
   ],
   "source": [
    "#premier essai\n",
    "print(Geom(10,0.5))\n"
   ]
  },
  {
   "cell_type": "markdown",
   "metadata": {},
   "source": [
    "Comment valider notre programme ? \n",
    "\n",
    "Là encore on peut regarder la moyenne empirique et vérifier qu'elle semble tendre vers l'espérance de la loi géométrique de paramètre $p$ (à savoir $\\frac{1}p$) et calculer la variance empirqique et la comparer à l'espérance d'une telle loi ( à savoir $\\frac{1-p}{p^2}$).\n",
    "\n",
    "(reprenons le code que l'on a fait pour calculer la moyenne et la variance d'une loi binomiale et faisons-en des programmes génériques qui renvoient la moyenne et la variance d'un vecteur)."
   ]
  },
  {
   "cell_type": "code",
   "execution_count": 23,
   "metadata": {},
   "outputs": [],
   "source": [
    "def moy(X):\n",
    "    return sum(X)/len(X)\n",
    "\n",
    "def var(X):\n",
    "    N=len(X)\n",
    "    M=moy(X) \n",
    "    Vx2=[X[k]**2 for k in range(N)]  \n",
    "    Sx2=moy(Vx2)  \n",
    "    return Sx2-M**2\n"
   ]
  },
  {
   "cell_type": "code",
   "execution_count": 24,
   "metadata": {},
   "outputs": [
    {
     "name": "stdout",
     "output_type": "stream",
     "text": [
      "La moyenne empirique vaut  1.4373 . L'espérance vaut  1.4285714285714286\n",
      "La variance empirique vaut  0.60786871 . La variance (théorique) vaut  0.6122448979591838\n"
     ]
    }
   ],
   "source": [
    "N=10000\n",
    "p=0.7\n",
    "G=Geom(N,p)\n",
    "print(\"La moyenne empirique vaut \",moy(G),\". L'espérance vaut \" ,1/p)\n",
    "print(\"La variance empirique vaut \",var(G),\". La variance (théorique) vaut \" ,(1-p)/p**2)\n"
   ]
  },
  {
   "cell_type": "markdown",
   "metadata": {},
   "source": [
    "Ceci est un permier indice mais ne suffit pas à valider le programme. Nous allons comparer là encore fréquences empiriques et probabilités d'obtenir telle ou telle valeur. On rappelle que pour une v.a. $X$ qui suit une loi géométrique de paramètre $p$, on a \n",
    "$$\\mathbb{P}(X=k)=(1-p)^{k-1}p \\qquad k\\in \\mathbb{N}^*.$$"
   ]
  },
  {
   "cell_type": "code",
   "execution_count": 32,
   "metadata": {},
   "outputs": [
    {
     "data": {
      "image/png": "[encoded data removed]",
      "text/plain": [
       "<Figure size 432x288 with 1 Axes>"
      ]
     },
     "metadata": {
      "needs_background": "light"
     },
     "output_type": "display_data"
    }
   ],
   "source": [
    "N=100000\n",
    "p=1/4\n",
    "kmax=15\n",
    "X=Geom(N,p)\n",
    "plt.hist(X, range = (1, kmax+1),bins=kmax,width = 0.3,density=True)\n",
    "\n",
    "PT=[]\n",
    "pr=p\n",
    "for k in range(1,kmax+1):\n",
    "        PT.append(pr)\n",
    "        pr=pr*(1-p)\n",
    "plt.bar(range(1,kmax+1),PT, width = 0.2, color = 'red') \n",
    "plt.show()\n"
   ]
  },
  {
   "cell_type": "markdown",
   "metadata": {},
   "source": [
    "## Méthode par inversion"
   ]
  },
  {
   "cell_type": "markdown",
   "metadata": {},
   "source": [
    "**Problèmatique :**\n",
    "\n",
    "Soit une loi discrète dont le support est inclus dans $\\mathbb{N}$. On cherche à simuler une v.a. qui suit cette loi.\n",
    "\n",
    "**Princice :** \n",
    "\n",
    "On note $F$ la fonction de répartition de la loi que l'on cherche à simuler.\n",
    "\n",
    "Soit $U$ une v.a uniforme sur $[0,1]$.\n",
    "\n",
    "On note $X$ la v.a. qui vaut \n",
    "  * 0 si $U < F(0)$\n",
    "  * 1 si $F(0)\\leqslant U < F(1)$   \n",
    "  * 2 si $F(1)\\leqslant U < F(2)$\n",
    "  * ...\n",
    " \n",
    "C'est-à-dire que $X=k$ avec $k$ l'unique entier tel que $U\\in [F(k-1) ; F(k)[$.\n",
    "\n",
    "Ou, dit encore autrement, $X=\\inf \\{k, ~~U< F(k)\\}$ (il n'est pas forcément utile de s'attarder sur cette expression pour l'instant)\n",
    "\n",
    "On a\n",
    "$$\\begin{eqnarray}\n",
    "            F_X(k)&=&\\mathbb{P}(X\\leqslant k)\\\\\n",
    "                  &=&\\mathbb{P}(U<F(k))\\\\\n",
    "                  &=&F(k)\\qquad\\textrm{(car pour une variable aléatoire uniforme sur $[0,1]$ et pour $p\\in[0,1]$, on a $\\mathbb{P}(U<p)=p$)}. \\\\\n",
    "  \\end{eqnarray}\n",
    "  $$\n",
    "  \n",
    "Ainsi la fonction de répartition de $X$ est celle de la loi voulue. Ainsi $X$ suit la loi voulue."
   ]
  },
  {
   "cell_type": "markdown",
   "metadata": {},
   "source": [
    "### Simulation d'une observation d'une loi de Poisson"
   ]
  },
  {
   "cell_type": "code",
   "execution_count": 26,
   "metadata": {},
   "outputs": [],
   "source": [
    "import random \n",
    "random.seed()\n",
    "import math\n",
    "from matplotlib import pyplot as plt \n"
   ]
  },
  {
   "cell_type": "markdown",
   "metadata": {},
   "source": [
    "La loi de Poisson a pour fonction de masse\n",
    "$$\\mathbb{P}(X=k)=e^{-\\lambda}\\frac{\\lambda^k}{k!}.$$"
   ]
  },
  {
   "cell_type": "code",
   "execution_count": 27,
   "metadata": {},
   "outputs": [],
   "source": [
    "def Poisson(N,lam,arret):#N lam : paramètre, N : taille de l'échantillon\n",
    "                        # arret :un nombre dans [0,1[ assez proche de 1 (voir le while)\n",
    "    Fc=0\n",
    "    F=[]\n",
    "    k=0\n",
    "    frac=1\n",
    "    #Construction du vecteur fonction de répartition\n",
    "    while (Fc<arret): # la support de la fonction de masse est N. On va s'arreter un peu avec +infini... \n",
    "        Fc=Fc+math.exp(-lam)*frac\n",
    "        F.append(Fc)\n",
    "        k=k+1             # on incrémente k pour la boucle \n",
    "        frac=frac*lam/k  #  a chaque fin de boucle on a frac qui vaut lambda^k/k! avec le k de la boucle suivante\n",
    "        #Fc=Fc+exp(-lamba)*lambda^k/math.factorial(k)\n",
    "    L=len(F)\n",
    "    X=[]\n",
    "    for i in range(N):\n",
    "        S=random.random()\n",
    "        k=0\n",
    "        while((S>F[k])and(k<L-1)):\n",
    "            k=k+1\n",
    "        X.append(k)\n",
    "    # print(\"les différences entres les \\\"jalons\\\", c'est-à-dire, le vecteur F(k+1)-F(k) où F est la fonction de réparition de la loi de Poisson est \\n\",[F[0]]+[F[k+1]-F[k] for k in range(L-1)],\"\\n\")\n",
    "    return X\n"
   ]
  },
  {
   "cell_type": "markdown",
   "metadata": {},
   "source": [
    "Notons que pour les simulations précédentes nous avions fait un premier programme qui simulait la variable en appelant $N$ fois le programme précédent. \n",
    "Ce choix permettait, pour ces premiers exemples, de se concentrer sur le problème principale (simuler **une** observation).\n",
    "\n",
    "Ici nous avons fait un choix différent. En effet la méthode la simulation par inversion de la fonction de répartition, nécessite de calculer la fonction de répartion. Il serait inutile de refaire ce calcul pour chacune des observations."
   ]
  },
  {
   "cell_type": "code",
   "execution_count": 28,
   "metadata": {},
   "outputs": [
    {
     "data": {
      "text/plain": [
       "[0, 1, 4, 2, 1, 1, 4, 2, 2, 2, 4, 0, 1, 0, 4, 2, 0, 2, 4, 0]"
      ]
     },
     "execution_count": 28,
     "metadata": {},
     "output_type": "execute_result"
    }
   ],
   "source": [
    "#Premier essai \n",
    "Poisson(20,2,0.9)\n"
   ]
  },
  {
   "cell_type": "markdown",
   "metadata": {},
   "source": [
    "Calculons la moyenne empirique et la variance empirique et comparons les avec l'espérance et la variance d'une loi de Poisson de paramètre $\\lambda$ (toutes deux égales à $\\lambda$)."
   ]
  },
  {
   "cell_type": "code",
   "execution_count": 29,
   "metadata": {},
   "outputs": [
    {
     "name": "stdout",
     "output_type": "stream",
     "text": [
      "La moyenne empirique vaut  0.699405 . L'espérance vaut  0.7\n",
      "La variance empirique vaut  0.6935476459749998  La variance (théorique) vaut  0.7\n"
     ]
    }
   ],
   "source": [
    "N=10**6\n",
    "l=0.7\n",
    "P=Poisson(N,l,0.999)\n",
    "print(\"La moyenne empirique vaut \",moy(P),\". L'espérance vaut \" ,l)\n",
    "print(\"La variance empirique vaut \",var(P),\" La variance (théorique) vaut \" ,l)"
   ]
  },
  {
   "cell_type": "markdown",
   "metadata": {},
   "source": [
    "Nous allons comparer là encore fréquences empiriques et probabilités d'obtenir telle ou telle valeur. On rappelle que pour une v.a. $X$ qui suit une loi de Poisson de paramètre $\\lambda$, on a \n",
    "$$\\mathbb{P}(X=k)=e^{-\\lambda}\\frac{\\lambda^k}{k!}\\qquad k\\in \\mathbb{N}^*.$$"
   ]
  },
  {
   "cell_type": "code",
   "execution_count": 31,
   "metadata": {},
   "outputs": [
    {
     "data": {
      "image/png": "[encoded data removed]",
      "text/plain": [
       "<Figure size 432x288 with 1 Axes>"
      ]
     },
     "metadata": {
      "needs_background": "light"
     },
     "output_type": "display_data"
    }
   ],
   "source": [
    "N=10**4\n",
    "lam=4\n",
    "arret=0.999\n",
    "kmax=10\n",
    "X=Poisson(N,lam,arret)\n",
    "plt.hist(X, range = (0, kmax),width =0.3,density=True,align = 'mid')\n",
    "PT=[]\n",
    "frac=1\n",
    "for k in range(0,kmax):\n",
    "        PT.append(math.exp(-lam)*frac)\n",
    "        frac=frac*lam/(k+1)\n",
    "plt.bar(range(0,kmax),PT, width = 0.2, color = 'red')\n",
    "plt.show()\n"
   ]
  }
 ],
 "metadata": {
  "kernelspec": {
   "display_name": "Python 3",
   "language": "python",
   "name": "python3"
  },
  "language_info": {
   "codemirror_mode": {
    "name": "ipython",
    "version": 3
   },
   "file_extension": ".py",
   "mimetype": "text/x-python",
   "name": "python",
   "nbconvert_exporter": "python",
   "pygments_lexer": "ipython3",
   "version": "3.8.5"
  }
 },
 "nbformat": 4,
 "nbformat_minor": 4
}
